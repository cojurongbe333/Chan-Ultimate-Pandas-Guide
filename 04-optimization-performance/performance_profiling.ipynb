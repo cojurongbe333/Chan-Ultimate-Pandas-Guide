{
 "cells": [
  {
   "cell_type": "markdown",
   "id": "7cd6c740",
   "metadata": {},
   "source": [
    "# 🚀 Performance Profiling\n",
    "\n",
    "Speed up your pandas workflows with vectorization and profiling tools."
   ]
  },
  {
   "cell_type": "code",
   "execution_count": null,
   "id": "a1e1a9bd",
   "metadata": {},
   "outputs": [],
   "source": [
    "import pandas as pd\n",
    "import numpy as np\n",
    "\n",
    "# Generate a big dataset\n",
    "df = pd.DataFrame({\n",
    "    'A': np.random.randint(0, 100, size=1_000_000),\n",
    "    'B': np.random.rand(1_000_000)\n",
    "})\n",
    "\n",
    "# Use vectorized operation\n",
    "df['C'] = df['A'] * df['B']"
   ]
  },
  {
   "cell_type": "markdown",
   "id": "a2a7dd66",
   "metadata": {},
   "source": [
    "### Profile it\n",
    "Use `memory_usage()` and `%%timeit` in a Jupyter cell."
   ]
  }
 ],
 "metadata": {},
 "nbformat": 4,
 "nbformat_minor": 5
}
