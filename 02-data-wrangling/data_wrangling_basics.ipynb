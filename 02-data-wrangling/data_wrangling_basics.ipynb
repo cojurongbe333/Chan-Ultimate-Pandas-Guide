{
 "cells": [
  {
   "cell_type": "markdown",
   "id": "24bb46bc",
   "metadata": {},
   "source": [
    "# 🧼 Data Wrangling Basics\n",
    "\n",
    "This notebook covers handling missing values, filtering, sorting, and renaming columns."
   ]
  },
  {
   "cell_type": "code",
   "execution_count": null,
   "id": "d0ff5b65",
   "metadata": {},
   "outputs": [],
   "source": [
    "import pandas as pd\n",
    "import numpy as np\n",
    "\n",
    "df = pd.DataFrame({\n",
    "    'Name': ['Anna', 'Ben', 'Chris', None],\n",
    "    'Score': [90, 85, np.nan, 75],\n",
    "    'Passed': [True, True, False, None]\n",
    "})\n",
    "df"
   ]
  },
  {
   "cell_type": "markdown",
   "id": "b2e73bf1",
   "metadata": {},
   "source": [
    "### Handle missing values\n",
    "- `.isnull()` and `.dropna()`\n",
    "- `.fillna()` to replace values"
   ]
  },
  {
   "cell_type": "code",
   "execution_count": null,
   "id": "6393e17e",
   "metadata": {},
   "outputs": [],
   "source": [
    "df.isnull()\n",
    "df.fillna({'Name': 'Unknown', 'Score': df['Score'].mean(), 'Passed': False})"
   ]
  }
 ],
 "metadata": {},
 "nbformat": 4,
 "nbformat_minor": 5
}
