{
 "cells": [
  {
   "cell_type": "markdown",
   "id": "67403d3c",
   "metadata": {},
   "source": [
    "# 🚢 Titanic Survival Analysis\n",
    "\n",
    "Explore passenger data to uncover survival patterns."
   ]
  },
  {
   "cell_type": "markdown",
   "id": "72dd2fdd",
   "metadata": {},
   "source": [
    "## Step 1: Load and Inspect the Data"
   ]
  },
  {
   "cell_type": "code",
   "execution_count": null,
   "id": "2668440b",
   "metadata": {},
   "outputs": [],
   "source": [
    "import pandas as pd\n",
    "\n",
    "df = pd.read_csv('../datasets/projects/titanic_project.csv')\n",
    "df.head()"
   ]
  },
  {
   "cell_type": "markdown",
   "id": "26c850d1",
   "metadata": {},
   "source": [
    "## Step 2: Check for Missing Data and Data Types"
   ]
  },
  {
   "cell_type": "code",
   "execution_count": null,
   "id": "01c02ede",
   "metadata": {},
   "outputs": [],
   "source": [
    "df.info()\n",
    "df.describe()"
   ]
  },
  {
   "cell_type": "markdown",
   "id": "4520c2fa",
   "metadata": {},
   "source": [
    "## Step 3: Analyze Survival by Gender, Class, and Age"
   ]
  },
  {
   "cell_type": "code",
   "execution_count": null,
   "id": "2fcedd50",
   "metadata": {},
   "outputs": [],
   "source": [
    "# Groupby survival and gender\n",
    "# Groupby survival and Pclass\n",
    "# Compare age distributions"
   ]
  },
  {
   "cell_type": "markdown",
   "id": "7a1f4444",
   "metadata": {},
   "source": [
    "## Bonus: Feature Engineering and Visualization"
   ]
  },
  {
   "cell_type": "code",
   "execution_count": null,
   "id": "6ccc0699",
   "metadata": {},
   "outputs": [],
   "source": [
    "# Create 'AgeGroup' column\n",
    "# Create visualizations if desired"
   ]
  },
  {
   "cell_type": "markdown",
   "id": "e16b3c88",
   "metadata": {},
   "source": [
    "### ✅ Solution: Survival by Gender and Class"
   ]
  },
  {
   "cell_type": "code",
   "execution_count": null,
   "id": "014b70be",
   "metadata": {},
   "outputs": [],
   "source": [
    "df.groupby(['Sex', 'Pclass'])['Survived'].mean().unstack()"
   ]
  }
 ],
 "metadata": {},
 "nbformat": 4,
 "nbformat_minor": 5
}
