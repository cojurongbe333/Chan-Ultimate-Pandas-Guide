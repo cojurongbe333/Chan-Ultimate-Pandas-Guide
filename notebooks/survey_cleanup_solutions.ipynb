{
 "cells": [
  {
   "cell_type": "markdown",
   "id": "4b4ae460",
   "metadata": {},
   "source": [
    "# 📝 Survey Data Clean-Up\n",
    "\n",
    "Prepare a raw survey dataset for analysis."
   ]
  },
  {
   "cell_type": "markdown",
   "id": "a7ca14fd",
   "metadata": {},
   "source": [
    "## Step 1: Load the Dataset"
   ]
  },
  {
   "cell_type": "code",
   "execution_count": null,
   "id": "d59049c6",
   "metadata": {},
   "outputs": [],
   "source": [
    "import pandas as pd\n",
    "\n",
    "df = pd.read_csv('../datasets/projects/survey_raw.csv')\n",
    "df.head()"
   ]
  },
  {
   "cell_type": "markdown",
   "id": "8a8cee82",
   "metadata": {},
   "source": [
    "## Step 2: Identify Inconsistencies"
   ]
  },
  {
   "cell_type": "code",
   "execution_count": null,
   "id": "c4ca4faf",
   "metadata": {},
   "outputs": [],
   "source": [
    "# Look at unique values in Q1, Q2, Q3\n",
    "# Check casing and formatting"
   ]
  },
  {
   "cell_type": "markdown",
   "id": "57493366",
   "metadata": {},
   "source": [
    "## Step 3: Clean and Transform Responses"
   ]
  },
  {
   "cell_type": "code",
   "execution_count": null,
   "id": "82049910",
   "metadata": {},
   "outputs": [],
   "source": [
    "# Normalize Yes/No\n",
    "# Standardize gender\n",
    "# Convert timestamp"
   ]
  },
  {
   "cell_type": "markdown",
   "id": "f6ce66c1",
   "metadata": {},
   "source": [
    "## Bonus: Sentiment Scoring and Visual Filtering"
   ]
  },
  {
   "cell_type": "markdown",
   "id": "457b5c80",
   "metadata": {},
   "source": [
    "### ✅ Solution: Normalize Yes/No and Gender Responses"
   ]
  },
  {
   "cell_type": "code",
   "execution_count": null,
   "id": "3cc4b0e4",
   "metadata": {},
   "outputs": [],
   "source": [
    "df['Q1'] = df['Q1'].str.lower().map({'yes': 1, 'y': 1, '1': 1, 'no': 0, 'n': 0, '0': 0})\n",
    "df['Q3'] = df['Q3'].str.lower().map({'male': 'Male', 'm': 'Male', 'female': 'Female', 'f': 'Female'})"
   ]
  }
 ],
 "metadata": {},
 "nbformat": 4,
 "nbformat_minor": 5
}
