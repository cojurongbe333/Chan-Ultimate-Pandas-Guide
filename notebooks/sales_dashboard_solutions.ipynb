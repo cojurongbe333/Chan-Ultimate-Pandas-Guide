{
 "cells": [
  {
   "cell_type": "markdown",
   "id": "ba4ffe13",
   "metadata": {},
   "source": [
    "# 📊 Sales Trends Dashboard\n",
    "\n",
    "Analyze sales trends over time across regions and products."
   ]
  },
  {
   "cell_type": "markdown",
   "id": "32a04602",
   "metadata": {},
   "source": [
    "## Step 1: Load the Dataset"
   ]
  },
  {
   "cell_type": "code",
   "execution_count": null,
   "id": "b8f97361",
   "metadata": {},
   "outputs": [],
   "source": [
    "import pandas as pd\n",
    "\n",
    "df = pd.read_csv('../datasets/projects/sales_trends.csv')\n",
    "df.head()"
   ]
  },
  {
   "cell_type": "markdown",
   "id": "bdf56216",
   "metadata": {},
   "source": [
    "## Step 2: Monthly and Regional Sales Analysis"
   ]
  },
  {
   "cell_type": "code",
   "execution_count": null,
   "id": "ff529ace",
   "metadata": {},
   "outputs": [],
   "source": [
    "# Group by month, region, and product\n",
    "# Create pivot tables"
   ]
  },
  {
   "cell_type": "markdown",
   "id": "16494914",
   "metadata": {},
   "source": [
    "## Step 3: Identify Trends"
   ]
  },
  {
   "cell_type": "code",
   "execution_count": null,
   "id": "914a571f",
   "metadata": {},
   "outputs": [],
   "source": [
    "# Calculate month-over-month change\n",
    "# Find peak months"
   ]
  },
  {
   "cell_type": "markdown",
   "id": "59509075",
   "metadata": {},
   "source": [
    "## Bonus: Cumulative Sales and Visualizations"
   ]
  },
  {
   "cell_type": "markdown",
   "id": "745c2c8e",
   "metadata": {},
   "source": [
    "### ✅ Solution: Total and Average Sales by Region and Product"
   ]
  },
  {
   "cell_type": "code",
   "execution_count": null,
   "id": "1a0149c4",
   "metadata": {},
   "outputs": [],
   "source": [
    "df.groupby(['Region', 'Product'])['Sales'].agg(['sum', 'mean']).round(2)"
   ]
  }
 ],
 "metadata": {},
 "nbformat": 4,
 "nbformat_minor": 5
}
