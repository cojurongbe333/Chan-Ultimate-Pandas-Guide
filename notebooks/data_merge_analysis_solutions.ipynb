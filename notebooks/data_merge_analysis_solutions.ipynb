{
 "cells": [
  {
   "cell_type": "markdown",
   "id": "3547f312",
   "metadata": {},
   "source": [
    "# 🔗 Data Merging Challenge\n",
    "\n",
    "Merge user and transaction datasets to explore customer activity."
   ]
  },
  {
   "cell_type": "markdown",
   "id": "ae6e8925",
   "metadata": {},
   "source": [
    "## Step 1: Load Both Datasets"
   ]
  },
  {
   "cell_type": "code",
   "execution_count": null,
   "id": "b48a89ab",
   "metadata": {},
   "outputs": [],
   "source": [
    "import pandas as pd\n",
    "\n",
    "users = pd.read_csv('../datasets/projects/users.csv')\n",
    "transactions = pd.read_csv('../datasets/projects/transactions.csv')\n",
    "users.head()"
   ]
  },
  {
   "cell_type": "markdown",
   "id": "60442f8f",
   "metadata": {},
   "source": [
    "## Step 2: Merge and Clean"
   ]
  },
  {
   "cell_type": "code",
   "execution_count": null,
   "id": "6a0e370c",
   "metadata": {},
   "outputs": [],
   "source": [
    "# Merge on user ID\n",
    "# Handle duplicates and missing values"
   ]
  },
  {
   "cell_type": "markdown",
   "id": "ded8db90",
   "metadata": {},
   "source": [
    "## Step 3: Analyze Spending Patterns"
   ]
  },
  {
   "cell_type": "code",
   "execution_count": null,
   "id": "ac5ed0b6",
   "metadata": {},
   "outputs": [],
   "source": [
    "# Average amount per user\n",
    "# Top spenders\n",
    "# Sign-up trends"
   ]
  },
  {
   "cell_type": "markdown",
   "id": "004e890c",
   "metadata": {},
   "source": [
    "## Bonus: Time-Series Grouping and Scoring"
   ]
  },
  {
   "cell_type": "markdown",
   "id": "d3cc0d43",
   "metadata": {},
   "source": [
    "### ✅ Solution: Merge and Analyze Transactions per User"
   ]
  },
  {
   "cell_type": "code",
   "execution_count": null,
   "id": "ea5a0b9f",
   "metadata": {},
   "outputs": [],
   "source": [
    "merged = transactions.merge(users, left_on='User_ID', right_on='UserID')\n",
    "merged.groupby('Name')['Amount'].sum().sort_values(ascending=False).head()"
   ]
  }
 ],
 "metadata": {},
 "nbformat": 4,
 "nbformat_minor": 5
}
