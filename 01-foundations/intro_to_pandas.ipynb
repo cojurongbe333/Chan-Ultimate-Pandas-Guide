{
 "cells": [
  {
   "cell_type": "markdown",
   "id": "19dab6c7",
   "metadata": {},
   "source": [
    "# 🐼 Introduction to Pandas\n",
    "\n",
    "Welcome to your first notebook in the Pandas Mastery Hub!\n",
    "\n",
    "In this notebook, you'll learn the basics of pandas: loading data, exploring DataFrames, and performing simple operations.\n"
   ]
  },
  {
   "cell_type": "code",
   "execution_count": null,
   "id": "4e6ab5fb",
   "metadata": {},
   "outputs": [],
   "source": [
    "import pandas as pd\n",
    "import numpy as np\n",
    "\n",
    "# Sample DataFrame\n",
    "data = {\n",
    "    'Name': ['Alice', 'Bob', 'Charlie', 'David'],\n",
    "    'Age': [25, 30, 35, 40],\n",
    "    'City': ['NY', 'LA', 'Chicago', 'Houston']\n",
    "}\n",
    "df = pd.DataFrame(data)\n",
    "df"
   ]
  },
  {
   "cell_type": "markdown",
   "id": "8c5c16f0",
   "metadata": {},
   "source": [
    "### 🔍 Let's explore our DataFrame\n",
    "- `.head()` to see the top rows\n",
    "- `.info()` for column summary\n",
    "- `.describe()` for quick stats\n"
   ]
  },
  {
   "cell_type": "code",
   "execution_count": null,
   "id": "e7f8c6e6",
   "metadata": {},
   "outputs": [],
   "source": [
    "df.head()\n",
    "df.info()\n",
    "df.describe()"
   ]
  }
 ],
 "metadata": {},
 "nbformat": 4,
 "nbformat_minor": 5
}
