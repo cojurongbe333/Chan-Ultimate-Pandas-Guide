{
 "cells": [
  {
   "cell_type": "markdown",
   "id": "245d4f0e",
   "metadata": {},
   "source": [
    "# 🏁 Real World Project: Titanic Survival Analysis\n",
    "\n",
    "Use the Titanic dataset to answer:\n",
    "- Who was most likely to survive?\n",
    "- How do age, class, and gender affect survival?"
   ]
  },
  {
   "cell_type": "code",
   "execution_count": null,
   "id": "9b4c1828",
   "metadata": {},
   "outputs": [],
   "source": [
    "import pandas as pd\n",
    "\n",
    "url = 'https://raw.githubusercontent.com/datasciencedojo/datasets/master/titanic.csv'\n",
    "df = pd.read_csv(url)\n",
    "df.head()"
   ]
  },
  {
   "cell_type": "markdown",
   "id": "4c5695c5",
   "metadata": {},
   "source": [
    "### Your Turn!\n",
    "- Clean missing values\n",
    "- Group by `Sex` and `Pclass`\n",
    "- Visualize survival rate"
   ]
  }
 ],
 "metadata": {},
 "nbformat": 4,
 "nbformat_minor": 5
}
