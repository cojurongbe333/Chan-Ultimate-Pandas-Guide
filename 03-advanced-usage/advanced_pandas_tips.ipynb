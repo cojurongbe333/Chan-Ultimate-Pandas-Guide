{
 "cells": [
  {
   "cell_type": "markdown",
   "id": "37f873dd",
   "metadata": {},
   "source": [
    "# ⚙️ Advanced Pandas Tips\n",
    "\n",
    "Level up with `.apply()`, custom functions, and multi-indexing."
   ]
  },
  {
   "cell_type": "code",
   "execution_count": null,
   "id": "9808c4cb",
   "metadata": {},
   "outputs": [],
   "source": [
    "import pandas as pd\n",
    "\n",
    "df = pd.DataFrame({\n",
    "    'Name': ['Amy', 'Brad', 'Cara'],\n",
    "    'Math': [88, 92, 95],\n",
    "    'Science': [90, 85, 93]\n",
    "})\n",
    "\n",
    "def average_score(row):\n",
    "    return (row['Math'] + row['Science']) / 2\n",
    "\n",
    "df['Average'] = df.apply(average_score, axis=1)\n",
    "df"
   ]
  }
 ],
 "metadata": {},
 "nbformat": 4,
 "nbformat_minor": 5
}
